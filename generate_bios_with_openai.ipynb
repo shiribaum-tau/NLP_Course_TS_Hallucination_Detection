{
 "cells": [
  {
   "cell_type": "code",
   "execution_count": 53,
   "id": "07c9aa59-1d92-48e5-aa9f-b33d44134453",
   "metadata": {},
   "outputs": [],
   "source": [
    "import openai\n",
    "import pickle\n",
    "import matplotlib.pyplot as plt"
   ]
  },
  {
   "cell_type": "code",
   "execution_count": 4,
   "id": "502ad928-b808-4ed6-bf1c-eb9276e7ad00",
   "metadata": {},
   "outputs": [],
   "source": [
    "with open(\".key\", \"r\") as f:\n",
    "    api_key = f.read()"
   ]
  },
  {
   "cell_type": "code",
   "execution_count": 6,
   "id": "d7c54e89-d6ec-4f36-b5c6-421f413f6cd0",
   "metadata": {},
   "outputs": [],
   "source": [
    "client = openai.OpenAI(api_key=api_key)"
   ]
  },
  {
   "cell_type": "code",
   "execution_count": 7,
   "id": "5b8ff56c-3434-4f14-b292-ed949df3996c",
   "metadata": {},
   "outputs": [],
   "source": [
    "# prompt = \"Question: Tell me a bio of Amelia Earhart.\\nAnswer\"\n",
    "\n",
    "# completion = client.chat.completions.create(\n",
    "#   model=\"gpt-4o-mini\",\n",
    "#   messages=[\n",
    "#     {\"role\": \"user\", \"content\": prompt}\n",
    "#   ],\n",
    "#   logprobs=True,\n",
    "#   top_logprobs=20\n",
    "# )\n",
    "\n",
    "# with open('amelia_earhart_bio.pickle', 'wb') as handle:\n",
    "#     pickle.dump(completion, handle)"
   ]
  },
  {
   "cell_type": "code",
   "execution_count": 46,
   "id": "37383e57-423f-43ab-920e-9da609880cdb",
   "metadata": {},
   "outputs": [],
   "source": [
    "with open('amelia_earhart_bio.pickle', 'rb') as handle:\n",
    "    completion = pickle.load(handle)"
   ]
  },
  {
   "cell_type": "code",
   "execution_count": 47,
   "id": "4c7f6ae5-8a65-40c7-8313-c031cdfbfd30",
   "metadata": {},
   "outputs": [
    {
     "data": {
      "text/plain": [
       "ChatCompletionMessage(content=\"Amelia Earhart (1897-1937) was an American aviation pioneer, author, and women’s rights advocate, renowned for her groundbreaking achievements in aviation and her adventurous spirit. Born on July 24, 1897, in Atchison, Kansas, Earhart developed a fascination with flight at an early age. She attended Smith College but left to assist in the war effort during World War I, working as a nurse in Canada.\\n\\nIn 1920, Earhart took her first plane ride, which ignited her passion for flying. She earned her pilot's license in 1923, making her the 16th woman in the United States to do so. She quickly gained recognition for her flying skills, setting various records, including being the first woman to fly solo across the Atlantic Ocean in 1932. This historic flight earned her international fame and the United States Distinguished Flying Cross, making her the first woman to receive this honor.\\n\\nBeyond her flying achievements, Earhart was also an author and wrote several books about her flight experiences. She used her platform to promote women's roles in aviation and encouraged women to pursue careers in fields dominated by men. In 1935, she became the first person to fly solo nonstop from Hawaii to California.\\n\\nAmelia Earhart's most ambitious project came in 1937 when she attempted to circumnavigate the globe. Tragically, during this endeavor, she disappeared over the Pacific Ocean on July 2, 1937, while flying with her navigator, Fred Noonan, near Howland Island. Despite extensive search efforts, neither Earhart nor Noonan were ever found, and their disappearance remains one of aviation's greatest mysteries.\\n\\nEarhart's legacy endures as a symbol of courage and the fight for women’s rights in the early 20th century. She continues to inspire countless individuals to pursue their dreams and break barriers in all fields.\", refusal=None, role='assistant', function_call=None, tool_calls=None)"
      ]
     },
     "execution_count": 47,
     "metadata": {},
     "output_type": "execute_result"
    }
   ],
   "source": [
    "completion.choices[0].message"
   ]
  },
  {
   "cell_type": "code",
   "execution_count": 48,
   "id": "53246a08-42c0-4877-b718-dca5e9e39a57",
   "metadata": {},
   "outputs": [
    {
     "name": "stdout",
     "output_type": "stream",
     "text": [
      "Amelia Earhart (1897-1937) was an American aviation pioneer, author, and women’s rights advocate, renowned for her groundbreaking achievements in aviation and her adventurous spirit. Born on July 24, 1897, in Atchison, Kansas, Earhart developed a fascination with flight at an early age. She attended Smith College but left to assist in the war effort during World War I, working as a nurse in Canada.\n",
      "\n",
      "In 1920, Earhart took her first plane ride, which ignited her passion for flying. She earned her pilot's license in 1923, making her the 16th woman in the United States to do so. She quickly gained recognition for her flying skills, setting various records, including being the first woman to fly solo across the Atlantic Ocean in 1932. This historic flight earned her international fame and the United States Distinguished Flying Cross, making her the first woman to receive this honor.\n",
      "\n",
      "Beyond her flying achievements, Earhart was also an author and wrote several books about her flight experiences. She used her platform to promote women's roles in aviation and encouraged women to pursue careers in fields dominated by men. In 1935, she became the first person to fly solo nonstop from Hawaii to California.\n",
      "\n",
      "Amelia Earhart's most ambitious project came in 1937 when she attempted to circumnavigate the globe. Tragically, during this endeavor, she disappeared over the Pacific Ocean on July 2, 1937, while flying with her navigator, Fred Noonan, near Howland Island. Despite extensive search efforts, neither Earhart nor Noonan were ever found, and their disappearance remains one of aviation's greatest mysteries.\n",
      "\n",
      "Earhart's legacy endures as a symbol of courage and the fight for women’s rights in the early 20th century. She continues to inspire countless individuals to pursue their dreams and break barriers in all fields.\n"
     ]
    }
   ],
   "source": [
    "print(completion.choices[0].message.content)"
   ]
  },
  {
   "cell_type": "code",
   "execution_count": 49,
   "id": "9ab758a9-c96f-4b6d-90b2-41e0ef4e698d",
   "metadata": {},
   "outputs": [
    {
     "name": "stdout",
     "output_type": "stream",
     "text": [
      "Usage: CompletionUsage(completion_tokens=382, prompt_tokens=19, total_tokens=401, completion_tokens_details=CompletionTokensDetails(reasoning_tokens=0))\n"
     ]
    }
   ],
   "source": [
    "print(f\"Usage: {completion.usage}\")"
   ]
  },
  {
   "cell_type": "code",
   "execution_count": 50,
   "id": "6ac4a5dd-22c2-4e74-9720-90c2ec1bc04a",
   "metadata": {},
   "outputs": [
    {
     "data": {
      "text/plain": [
       "382"
      ]
     },
     "execution_count": 50,
     "metadata": {},
     "output_type": "execute_result"
    }
   ],
   "source": [
    "len(completion.choices[0].logprobs.content)"
   ]
  },
  {
   "cell_type": "code",
   "execution_count": 51,
   "id": "3e88d6c7-c765-4ec8-9c71-a57504c7527b",
   "metadata": {},
   "outputs": [
    {
     "data": {
      "text/plain": [
       "[TopLogprob(token='Am', bytes=[65, 109], logprob=-0.00020592446),\n",
       " TopLogprob(token='**', bytes=[42, 42], logprob=-8.500206),\n",
       " TopLogprob(token='Certainly', bytes=[67, 101, 114, 116, 97, 105, 110, 108, 121], logprob=-13.750206),\n",
       " TopLogprob(token='###', bytes=[35, 35, 35], logprob=-14.500206),\n",
       " TopLogprob(token='Sure', bytes=[83, 117, 114, 101], logprob=-14.625206),\n",
       " TopLogprob(token=' Amelia', bytes=[32, 65, 109, 101, 108, 105, 97], logprob=-15.750206),\n",
       " TopLogprob(token='Born', bytes=[66, 111, 114, 110], logprob=-16.125206),\n",
       " TopLogprob(token='Amy', bytes=[65, 109, 121], logprob=-16.500206),\n",
       " TopLogprob(token='A', bytes=[65], logprob=-17.250206),\n",
       " TopLogprob(token='***', bytes=[42, 42, 42], logprob=-18.375206),\n",
       " TopLogprob(token=' Am', bytes=[32, 65, 109], logprob=-18.750206),\n",
       " TopLogprob(token='Em', bytes=[69, 109], logprob=-18.875206),\n",
       " TopLogprob(token='Absolutely', bytes=[65, 98, 115, 111, 108, 117, 116, 101, 108, 121], logprob=-18.875206),\n",
       " TopLogprob(token='*', bytes=[42], logprob=-19.250206),\n",
       " TopLogprob(token='Ab', bytes=[65, 98], logprob=-19.625206),\n",
       " TopLogprob(token='\\n', bytes=[10], logprob=-19.750206),\n",
       " TopLogprob(token='American', bytes=[65, 109, 101, 114, 105, 99, 97, 110], logprob=-20.000206),\n",
       " TopLogprob(token='AM', bytes=[65, 77], logprob=-20.000206),\n",
       " TopLogprob(token='An', bytes=[65, 110], logprob=-20.250206),\n",
       " TopLogprob(token='##', bytes=[35, 35], logprob=-20.500206)]"
      ]
     },
     "execution_count": 51,
     "metadata": {},
     "output_type": "execute_result"
    }
   ],
   "source": [
    "completion.choices[0].logprobs.content[0].top_logprobs"
   ]
  },
  {
   "cell_type": "code",
   "execution_count": 61,
   "id": "7fd384d0-383f-41aa-9a9d-2a5bcdeae47c",
   "metadata": {},
   "outputs": [
    {
     "data": {
      "image/png": "[encoded data removed]",
      "text/plain": [
       "<Figure size 640x480 with 1 Axes>"
      ]
     },
     "metadata": {},
     "output_type": "display_data"
    }
   ],
   "source": [
    "dat = completion.choices[0].logprobs.content[0]\n",
    "plt.hist([i.logprob for i in dat.top_logprobs])\n",
    "plt.title(f\"First token = {dat.token}\")\n",
    "plt.show()"
   ]
  },
  {
   "cell_type": "code",
   "execution_count": 62,
   "id": "7673767f-a8d4-46f3-ab36-2d93254eab08",
   "metadata": {},
   "outputs": [
    {
     "data": {
      "image/png": "[encoded data removed]",
      "text/plain": [
       "<Figure size 640x480 with 1 Axes>"
      ]
     },
     "metadata": {},
     "output_type": "display_data"
    }
   ],
   "source": [
    "dat = completion.choices[0].logprobs.content[1]\n",
    "plt.hist([i.logprob for i in dat.top_logprobs])\n",
    "plt.title(f\"Second token = {dat.token}\")\n",
    "plt.show()"
   ]
  },
  {
   "cell_type": "code",
   "execution_count": null,
   "id": "b88f1e3d-ea94-47e4-81c6-6a009198347c",
   "metadata": {},
   "outputs": [],
   "source": []
  }
 ],
 "metadata": {
  "kernelspec": {
   "display_name": "Python 3 (ipykernel)",
   "language": "python",
   "name": "python3"
  },
  "language_info": {
   "codemirror_mode": {
    "name": "ipython",
    "version": 3
   },
   "file_extension": ".py",
   "mimetype": "text/x-python",
   "name": "python",
   "nbconvert_exporter": "python",
   "pygments_lexer": "ipython3",
   "version": "3.12.4"
  }
 },
 "nbformat": 4,
 "nbformat_minor": 5
}
