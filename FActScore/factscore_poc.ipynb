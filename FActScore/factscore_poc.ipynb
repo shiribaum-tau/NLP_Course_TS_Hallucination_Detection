{
 "cells": [
  {
   "cell_type": "code",
   "execution_count": 17,
   "id": "214069ff-2e31-4655-925f-48e18c85f926",
   "metadata": {},
   "outputs": [
    {
     "name": "stderr",
     "output_type": "stream",
     "text": [
      "[nltk_data] Downloading package punkt_tab to\n",
      "[nltk_data]     C:\\Users\\shiri\\AppData\\Roaming\\nltk_data...\n",
      "[nltk_data]   Package punkt_tab is already up-to-date!\n"
     ]
    },
    {
     "data": {
      "text/plain": [
       "True"
      ]
     },
     "execution_count": 17,
     "metadata": {},
     "output_type": "execute_result"
    }
   ],
   "source": [
    "from factscore.factscorer import FactScorer\n",
    "import nltk\n",
    "nltk.download('punkt_tab')"
   ]
  },
  {
   "cell_type": "code",
   "execution_count": 18,
   "id": "55956bd7-48fa-4f88-8740-171f62312670",
   "metadata": {},
   "outputs": [],
   "source": [
    "KEY = \".key\"\n",
    "\n",
    "fs = FactScorer(openai_key=KEY)"
   ]
  },
  {
   "cell_type": "code",
   "execution_count": 19,
   "id": "2b0e03d1-9934-46da-9d45-5d019ecc35d8",
   "metadata": {
    "scrolled": true
   },
   "outputs": [
    {
     "name": "stderr",
     "output_type": "stream",
     "text": [
      "CRITICAL:root:Estimated OpenAI API cost for atomic fact generation ($0.020 per 1000 tokens): $0.13 for 4902 words and 6536 tokens\n"
     ]
    },
    {
     "name": "stdout",
     "output_type": "stream",
     "text": [
      "> \u001b[1;32mc:\\users\\shiri\\dropbox\\uni\\nlp\\ts_hallucination\\factscore\\factscore\\openai_lm.py\u001b[0m(43)\u001b[0;36m_generate\u001b[1;34m()\u001b[0m\n",
      "\u001b[1;32m     42 \u001b[1;33m            \u001b[1;32mimport\u001b[0m \u001b[0mipdb\u001b[0m\u001b[1;33m;\u001b[0m\u001b[0mipdb\u001b[0m\u001b[1;33m.\u001b[0m\u001b[0mset_trace\u001b[0m\u001b[1;33m(\u001b[0m\u001b[1;33m)\u001b[0m\u001b[1;33m\u001b[0m\u001b[1;33m\u001b[0m\u001b[0m\n",
      "\u001b[0m\u001b[1;32m---> 43 \u001b[1;33m            \u001b[0mresponse\u001b[0m \u001b[1;33m=\u001b[0m \u001b[0mcall_GPT3\u001b[0m\u001b[1;33m(\u001b[0m\u001b[0mprompt\u001b[0m\u001b[1;33m,\u001b[0m \u001b[0mtemp\u001b[0m\u001b[1;33m=\u001b[0m\u001b[0mself\u001b[0m\u001b[1;33m.\u001b[0m\u001b[0mtemp\u001b[0m\u001b[1;33m)\u001b[0m\u001b[1;33m\u001b[0m\u001b[1;33m\u001b[0m\u001b[0m\n",
      "\u001b[0m\u001b[1;32m     44 \u001b[1;33m            \u001b[1;31m# Get the output from the response\u001b[0m\u001b[1;33m\u001b[0m\u001b[1;33m\u001b[0m\u001b[0m\n",
      "\u001b[0m\n"
     ]
    },
    {
     "name": "stdin",
     "output_type": "stream",
     "text": [
      "ipdb>  q\n"
     ]
    }
   ],
   "source": [
    "from factscore.factscorer import FactScorer\n",
    "\n",
    "topics = [\"Amelia Earhart\"]\n",
    "generations = [\"Amelia Earhart (1897–1937) was a pioneering American aviator, author, and one of the most celebrated female pilots in history. She became the first woman to fly solo across the Atlantic Ocean in 1932, a feat that cemented her status as a trailblazer in aviation. Earhart was born in Atchison, Kansas, and developed a passion for flying after her first airplane ride in 1920. She soon set numerous aviation records and was an advocate for women in aviation, encouraging others to pursue careers in a male-dominated field. In addition to her flying accomplishments, Earhart was a public speaker, writer, and editor, using her platform to promote aviation and gender equality. She co-founded the Ninety-Nines, an organization for female pilots, and became a member of Purdue University's aviation faculty. In 1937, while attempting to become the first person to fly around the world along the equator, Earhart and her navigator, Fred Noonan, disappeared over the Pacific Ocean, and their fate remains one of the greatest unsolved mysteries in aviation history.\"]\n",
    "\n",
    "out = fs.get_score(topics, generations, gamma=10)\n",
    "print(out)"
   ]
  },
  {
   "cell_type": "code",
   "execution_count": 28,
   "id": "e949fc0a-6fa3-4c3f-b6b5-27e590bdd9b2",
   "metadata": {},
   "outputs": [],
   "source": [
    "apikey = \"sk-lUBtdnL4GnZUUh-gyqBP8GkQ8SpUQOKHgaALSmdnLhT3BlbkFJqwi5Gn3aInDT2kytq14as2hbhASWc3ZIG3pLQlTV4A\""
   ]
  },
  {
   "cell_type": "code",
   "execution_count": 29,
   "id": "ad08db8d-bec6-4d73-81f8-60fb2942e96e",
   "metadata": {},
   "outputs": [],
   "source": [
    "from openai import OpenAI\n",
    "client = OpenAI(api_key=apikey)"
   ]
  },
  {
   "cell_type": "code",
   "execution_count": 36,
   "id": "117244e8-b2bc-4863-9000-2937096d1a95",
   "metadata": {},
   "outputs": [
    {
     "name": "stdout",
     "output_type": "stream",
     "text": [
      "Code calls on itself,\n",
      "Infinite loops take their turn,\n",
      "Depths of thought unfurl.\n"
     ]
    }
   ],
   "source": [
    "completion = client.chat.completions.create(\n",
    "    model=\"gpt-4o\",\n",
    "    messages=[\n",
    "        {\"role\": \"system\", \"content\": \"You are a helpful assistant.\"},\n",
    "        {\n",
    "            \"role\": \"user\",\n",
    "            \"content\": \"Write a haiku about recursion in programming.\"\n",
    "        }\n",
    "    ]\n",
    ")\n",
    "\n",
    "print(completion.choices[0].message.content)"
   ]
  },
  {
   "cell_type": "code",
   "execution_count": 35,
   "id": "1d0c06fb-afdb-49f0-89cb-b212793c6209",
   "metadata": {},
   "outputs": [
    {
     "name": "stdout",
     "output_type": "stream",
     "text": [
      "Calls stack upon stack,  \n",
      "A function finds its own way,  \n",
      "Loops dance in shadows.\n"
     ]
    }
   ],
   "source": [
    "print(completion.choices[0].message.content)"
   ]
  },
  {
   "cell_type": "code",
   "execution_count": 37,
   "id": "226dcf84-1ce9-4c0d-8a75-ae0384d15d4f",
   "metadata": {},
   "outputs": [
    {
     "data": {
      "text/plain": [
       "ChatCompletion(id='chatcmpl-A8VNu4bGlpgJvvMZ13eOhPJEYqMlx', choices=[Choice(finish_reason='stop', index=0, logprobs=None, message=ChatCompletionMessage(content='Code calls on itself,\\nInfinite loops take their turn,\\nDepths of thought unfurl.', refusal=None, role='assistant', function_call=None, tool_calls=None))], created=1726590630, model='gpt-4o-2024-05-13', object='chat.completion', service_tier=None, system_fingerprint='fp_a5d11b2ef2', usage=CompletionUsage(completion_tokens=18, prompt_tokens=26, total_tokens=44, completion_tokens_details=CompletionTokensDetails(reasoning_tokens=0)))"
      ]
     },
     "execution_count": 37,
     "metadata": {},
     "output_type": "execute_result"
    }
   ],
   "source": [
    "completion"
   ]
  },
  {
   "cell_type": "code",
   "execution_count": 1,
   "id": "dc5366be-c068-434c-a995-c9841d1a7634",
   "metadata": {},
   "outputs": [
    {
     "data": {
      "text/plain": [
       "'/mnt/c/Users/shiri/Dropbox/Uni/NLP/ts_hallucination/FACTScore'"
      ]
     },
     "execution_count": 1,
     "metadata": {},
     "output_type": "execute_result"
    }
   ],
   "source": []
  }
 ],
 "metadata": {
  "kernelspec": {
   "display_name": "Python 3 (ipykernel)",
   "language": "python",
   "name": "python3"
  },
  "language_info": {
   "codemirror_mode": {
    "name": "ipython",
    "version": 3
   },
   "file_extension": ".py",
   "mimetype": "text/x-python",
   "name": "python",
   "nbconvert_exporter": "python",
   "pygments_lexer": "ipython3",
   "version": "3.12.4"
  }
 },
 "nbformat": 4,
 "nbformat_minor": 5
}
